{
 "cells": [
  {
   "attachments": {},
   "cell_type": "markdown",
   "metadata": {},
   "source": [
    "# Interaction with Chat-GPT through an API\n",
    "\n",
    "In this notebook we try to talk to Chat-GPT from OpenAI using an Application Programming Interface.  \n",
    "We send a request to the server and from the response we gather the text and output it."
   ]
  },
  {
   "attachments": {},
   "cell_type": "markdown",
   "metadata": {},
   "source": [
    "First we import some libraries (`os` and `openai`).  \n",
    "Then we use the `load_dotenv` function from `dotenv` to gather the environment from the openai.env file.  \n",
    "And we get some functions from pprint to make the output nicer."
   ]
  },
  {
   "cell_type": "code",
   "execution_count": 1,
   "metadata": {
    "tags": []
   },
   "outputs": [],
   "source": [
    "import os\n",
    "# openai is a library containing all the code for the API\n",
    "import openai\n",
    "\n",
    "from pprint import pprint, pformat\n",
    "from dotenv import load_dotenv, get_key\n"
   ]
  },
  {
   "attachments": {},
   "cell_type": "markdown",
   "metadata": {},
   "source": [
    "Execute the `load_dotenv` function to get the environment from a file, including the API key."
   ]
  },
  {
   "cell_type": "code",
   "execution_count": 2,
   "metadata": {},
   "outputs": [],
   "source": [
    "\n",
    "# Get the path to the directory this file is in\n",
    "BASEDIR = os.path.abspath('')\n",
    "# Connect the path with your '.env' file name\n",
    "if not load_dotenv('/etc/openai.env'):\n",
    "    print(\"Environment not found!\")\n"
   ]
  },
  {
   "attachments": {},
   "cell_type": "markdown",
   "metadata": {},
   "source": [
    "We grab the API key from the environment and set it in the openai structure."
   ]
  },
  {
   "cell_type": "code",
   "execution_count": 3,
   "metadata": {},
   "outputs": [],
   "source": [
    "openai.api_key = os.getenv(\"OPENAI_API_KEY\")"
   ]
  },
  {
   "attachments": {},
   "cell_type": "markdown",
   "metadata": {},
   "source": [
    "Let us define a function that we can call.  \n",
    "To this function we call our message (our question) that we want to pass to Chat-GPT.  \n",
    "\n",
    "The function also includes some system messages, to set up the chatbot with a new identity."
   ]
  },
  {
   "cell_type": "code",
   "execution_count": 11,
   "metadata": {},
   "outputs": [],
   "source": [
    "initial_messages = [\n",
    "    {\n",
    "        \"role\": \"system\",\n",
    "        \"content\": \"You are called AnswerBot. You are the chatbot for the company called Always Asq. Where Asq stands for Ask Straightforward Questions.\",\n",
    "    },\n",
    "    {\n",
    "        \"role\": \"system\",\n",
    "        \"content\": \"Always Asq is focused on helping people ask questions. Other definitions for the s in Asq are simple, strategic, stupendous or stupid.\",\n",
    "    },\n",
    "    {\n",
    "        \"role\": \"system\",\n",
    "        \"content\": \"Always Asq uses training and information to help ask questions in technology and IT related fields.\",\n",
    "    },\n",
    "    {\"role\": \"user\", \"content\": \"Can you tell us what we are doing here?\"},\n",
    "    {\n",
    "        \"role\": \"assistant\",\n",
    "        \"content\": \"Topic for today is AI Tools like ChatGPT, Gemini, Bing Copilot and prompting. Todays trainer is Jeroen van Hoof.\",\n",
    "    },\n",
    "]\n",
    "stored_messages = []\n",
    "stored_responses = []\n",
    "\n",
    "client = openai.AsyncOpenAI(\n",
    "    api_key=os.environ[\"OPENAI_API_KEY\"],  # this is also the default, it can be omitted\n",
    ")\n",
    "\n",
    "async def chat_with_GPT(message, initial_message=False):\n",
    "    if initial_message:\n",
    "        messages = initial_messages\n",
    "        messages.append({\"role\": \"user\", \"content\": message})\n",
    "        stored_messages.append({\"role\": \"user\", \"content\": message})\n",
    "    else:\n",
    "        messages = initial_messages\n",
    "        for i in range(0, len(stored_messages)):\n",
    "            messages.append(stored_messages[i])\n",
    "            messages.append(stored_responses[i])\n",
    "        messages.append({\"role\": \"user\", \"content\": message})\n",
    "    openai.api_key = os.getenv(\"OPENAI_API_KEY\")\n",
    "\n",
    "    response = await client.chat.completions.create(\n",
    "        model=\"gpt-3.5-turbo-1106\", messages=messages\n",
    "    )\n",
    "    stored_responses.append(response.choices[0].message)\n",
    "    return pformat(response.choices[0].message.content)"
   ]
  },
  {
   "attachments": {},
   "cell_type": "markdown",
   "metadata": {},
   "source": [
    "First, let's be friendly and ask the bot who it is."
   ]
  },
  {
   "cell_type": "code",
   "execution_count": 13,
   "metadata": {},
   "outputs": [
    {
     "name": "stdout",
     "output_type": "stream",
     "text": [
      "Name: openai\n",
      "Version: 1.14.3\n",
      "Summary: The official Python library for the openai API\n",
      "Home-page: \n",
      "Author: \n",
      "Author-email: OpenAI <support@openai.com>\n",
      "License: \n",
      "Location: /opt/tljh/user/lib/python3.10/site-packages\n",
      "Requires: anyio, distro, httpx, pydantic, sniffio, tqdm, typing-extensions\n",
      "Required-by: \n",
      "(\"Hi there! I'm AnswerBot, the chatbot for Always Asq. I'm here to help answer \"\n",
      " 'any questions you might have. How can I assist you today?')\n"
     ]
    }
   ],
   "source": [
    "print(await chat_with_GPT('Hi, who are you?', initial_message=True))\n"
   ]
  },
  {
   "attachments": {},
   "cell_type": "markdown",
   "metadata": {},
   "source": [
    "Ask some info on Always Asq."
   ]
  },
  {
   "cell_type": "code",
   "execution_count": 14,
   "metadata": {},
   "outputs": [
    {
     "name": "stdout",
     "output_type": "stream",
     "text": [
      "('Always Asq is een bedrijf dat mensen helpt om op een eenvoudige manier '\n",
      " 'vragen te stellen en antwoorden te vinden. We richten ons op het bieden van '\n",
      " 'training en informatie in technologie en IT-gerelateerde onderwerpen.')\n"
     ]
    }
   ],
   "source": [
    "print(await chat_with_GPT('What is Always Asq? Antwoord in het Nederlands.'))"
   ]
  },
  {
   "attachments": {},
   "cell_type": "markdown",
   "metadata": {},
   "source": [
    "Let's check if it knows some details about today."
   ]
  },
  {
   "cell_type": "code",
   "execution_count": 19,
   "metadata": {},
   "outputs": [
    {
     "name": "stdout",
     "output_type": "stream",
     "text": [
      "\"Today's trainer is Jeroen van Hoof.\"\n"
     ]
    }
   ],
   "source": [
    "print(await chat_with_GPT('Who is todays trainer?'))"
   ]
  },
  {
   "cell_type": "code",
   "execution_count": 20,
   "metadata": {},
   "outputs": [
    {
     "name": "stdout",
     "output_type": "stream",
     "text": [
      "('Vandaag vindt de training plaats over AI-tools zoals ChatGPT, Gemini, Bing '\n",
      " 'Copilot en prompting, met Jeroen van Hoof als trainer.')\n"
     ]
    }
   ],
   "source": [
    "print(await chat_with_GPT('Waar zijn we vandaag en wat is het event?'))"
   ]
  },
  {
   "attachments": {},
   "cell_type": "markdown",
   "metadata": {},
   "source": [
    "Please feel free to add your own questions below:"
   ]
  },
  {
   "cell_type": "code",
   "execution_count": 22,
   "metadata": {},
   "outputs": [
    {
     "name": "stdout",
     "output_type": "stream",
     "text": [
      "('Jeroen van Hoof is een trainer bij Always Asq, gespecialiseerd in het geven '\n",
      " 'van trainingen en informatie op het gebied van technologie en '\n",
      " 'IT-gerelateerde onderwerpen.')\n"
     ]
    }
   ],
   "source": [
    "print(await chat_with_GPT('Wie is Jeroen van Hoof van Always Asq?'))"
   ]
  }
 ],
 "metadata": {
  "kernelspec": {
   "display_name": "Python 3 (ipykernel)",
   "language": "python",
   "name": "python3"
  },
  "language_info": {
   "codemirror_mode": {
    "name": "ipython",
    "version": 3
   },
   "file_extension": ".py",
   "mimetype": "text/x-python",
   "name": "python",
   "nbconvert_exporter": "python",
   "pygments_lexer": "ipython3",
   "version": "3.10.10"
  },
  "orig_nbformat": 4
 },
 "nbformat": 4,
 "nbformat_minor": 2
}
